{
 "cells": [
  {
   "cell_type": "markdown",
   "id": "ec008842-0ffb-42da-a3ca-669f8d737084",
   "metadata": {},
   "source": [
    "Hola"
   ]
  },
  {
   "cell_type": "code",
   "execution_count": null,
   "id": "c5aaa38f-3833-4167-9326-9f362c86405b",
   "metadata": {},
   "outputs": [],
   "source": []
  }
 ],
 "metadata": {
  "kernelspec": {
   "display_name": "Python 3 (ipykernel)",
   "language": "python",
   "name": "python3"
  },
  "language_info": {
   "codemirror_mode": {
    "name": "ipython",
    "version": 3
   },
   "file_extension": ".py",
   "mimetype": "text/x-python",
   "name": "python",
   "nbconvert_exporter": "python",
   "pygments_lexer": "ipython3",
   "version": "3.13.3"
  }
 },
 "nbformat": 4,
 "nbformat_minor": 5
}
