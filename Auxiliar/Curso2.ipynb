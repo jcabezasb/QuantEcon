{
 "cells": [
  {
   "cell_type": "markdown",
   "id": "d21d7138",
   "metadata": {},
   "source": [
    "Intento 2"
   ]
  }
 ],
 "metadata": {
  "language_info": {
   "name": "python"
  }
 },
 "nbformat": 4,
 "nbformat_minor": 5
}
